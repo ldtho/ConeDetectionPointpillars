{
 "cells": [
  {
   "cell_type": "code",
   "execution_count": 2,
   "id": "significant-rainbow",
   "metadata": {},
   "outputs": [],
   "source": [
    "import torch\n",
    "import numpy as np\n",
    "%config Completer.use_jedi = False\n"
   ]
  },
  {
   "cell_type": "code",
   "execution_count": 28,
   "id": "equipped-technique",
   "metadata": {},
   "outputs": [
    {
     "data": {
      "text/plain": [
       "array([[1., 1., 1.],\n",
       "       [0., 0., 0.]])"
      ]
     },
     "execution_count": 28,
     "metadata": {},
     "output_type": "execute_result"
    }
   ],
   "source": [
    "a = np.zeros([2,3])\n",
    "a[0,] = 1\n",
    "a"
   ]
  },
  {
   "cell_type": "code",
   "execution_count": 20,
   "id": "christian-subscriber",
   "metadata": {},
   "outputs": [
    {
     "data": {
      "text/plain": [
       "tensor([[[0.5000, 0.5000],\n",
       "         [0.5000, 0.5000],\n",
       "         [0.5000, 0.5000]],\n",
       "\n",
       "        [[0.5000, 0.5000],\n",
       "         [0.5000, 0.5000],\n",
       "         [0.5000, 0.5000]]])"
      ]
     },
     "execution_count": 20,
     "metadata": {},
     "output_type": "execute_result"
    }
   ],
   "source": [
    "torch.ones([2,3,2]) - torch.ones([3,2])/2"
   ]
  },
  {
   "cell_type": "code",
   "execution_count": null,
   "id": "heard-joint",
   "metadata": {},
   "outputs": [],
   "source": []
  },
  {
   "cell_type": "code",
   "execution_count": 10,
   "id": "9e87e665",
   "metadata": {},
   "outputs": [],
   "source": [
    "linear = torch.nn.Linear(9,64)\n",
    "bn = torch.nn.BatchNorm1d(64)"
   ]
  },
  {
   "cell_type": "code",
   "execution_count": 14,
   "id": "41819136",
   "metadata": {},
   "outputs": [
    {
     "data": {
      "text/plain": [
       "torch.Size([20000, 64, 100])"
      ]
     },
     "execution_count": 14,
     "metadata": {},
     "output_type": "execute_result"
    }
   ],
   "source": [
    "x = torch.rand((20000,100,9))\n",
    "linear(x).permute(0,2,1).shape"
   ]
  },
  {
   "cell_type": "code",
   "execution_count": 16,
   "id": "e07031bd",
   "metadata": {},
   "outputs": [
    {
     "data": {
      "text/plain": [
       "torch.Size([20000, 100, 64])"
      ]
     },
     "execution_count": 16,
     "metadata": {},
     "output_type": "execute_result"
    }
   ],
   "source": [
    "bn(linear(x).permute(0,2,1)).permute(0,2,1).shape"
   ]
  },
  {
   "cell_type": "code",
   "execution_count": null,
   "id": "bbe772a7",
   "metadata": {},
   "outputs": [],
   "source": [
    "\n"
   ]
  }
 ],
 "metadata": {
  "kernelspec": {
   "display_name": "Python 3",
   "language": "python",
   "name": "python3"
  },
  "language_info": {
   "codemirror_mode": {
    "name": "ipython",
    "version": 3
   },
   "file_extension": ".py",
   "mimetype": "text/x-python",
   "name": "python",
   "nbconvert_exporter": "python",
   "pygments_lexer": "ipython3",
   "version": "3.8.6"
  }
 },
 "nbformat": 4,
 "nbformat_minor": 5
}
